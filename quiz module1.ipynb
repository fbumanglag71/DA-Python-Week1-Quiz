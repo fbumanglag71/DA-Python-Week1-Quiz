{
 "cells": [
  {
   "cell_type": "code",
   "execution_count": 25,
   "id": "2f2f56c6",
   "metadata": {},
   "outputs": [
    {
     "name": "stdout",
     "output_type": "stream",
     "text": [
      "None\n",
      "None\n"
     ]
    }
   ],
   "source": [
    "def dict_values(dictionary):\n",
    "    for key in dictionary: \n",
    "        print(None)\n",
    "\n",
    "my_dict = {'a': 1, 'b': 2}\n",
    "\n",
    "dict_values(my_dict)\n"
   ]
  },
  {
   "cell_type": "code",
   "execution_count": null,
   "id": "b0c0bdee",
   "metadata": {},
   "outputs": [],
   "source": []
  },
  {
   "cell_type": "code",
   "execution_count": 17,
   "id": "9cefa9e2",
   "metadata": {},
   "outputs": [
    {
     "name": "stdout",
     "output_type": "stream",
     "text": [
      "Ilovelearninghowtocode\n"
     ]
    }
   ],
   "source": [
    "s = \"I love learning how to code\"\n",
    "words = s.split()\n",
    "result = ''.join(words) \n",
    "print(result)\n"
   ]
  },
  {
   "cell_type": "raw",
   "id": "c1b335f4",
   "metadata": {},
   "source": []
  },
  {
   "cell_type": "code",
   "execution_count": 20,
   "id": "b76e8dbb",
   "metadata": {},
   "outputs": [
    {
     "name": "stdout",
     "output_type": "stream",
     "text": [
      "47\n"
     ]
    }
   ],
   "source": [
    "string_methods = dir(str)\n",
    "public_methods_count = len([method for method in string_methods if not method.startswith('_')])\n",
    "print(public_methods_count)\n"
   ]
  },
  {
   "cell_type": "code",
   "execution_count": 26,
   "id": "04783fd0",
   "metadata": {},
   "outputs": [
    {
     "name": "stdout",
     "output_type": "stream",
     "text": [
      "['append', 'clear', 'copy', 'count', 'extend', 'index', 'insert', 'pop', 'remove', 'reverse', 'sort']\n"
     ]
    }
   ],
   "source": [
    "list_methods = [method for method in dir(list) if not method.startswith('_')]\n",
    "print(list_methods)"
   ]
  },
  {
   "cell_type": "code",
   "execution_count": 34,
   "id": "9aa8edc4",
   "metadata": {},
   "outputs": [
    {
     "data": {
      "text/plain": [
       "['append',\n",
       " 'clear',\n",
       " 'copy',\n",
       " 'count',\n",
       " 'extend',\n",
       " 'index',\n",
       " 'insert',\n",
       " 'pop',\n",
       " 'remove',\n",
       " 'reverse',\n",
       " 'sort']"
      ]
     },
     "execution_count": 34,
     "metadata": {},
     "output_type": "execute_result"
    }
   ],
   "source": [
    "x = [1,2,3]\n",
    "dir(x)\n",
    "x.sort?\n",
    "[m for m in dir(x) if not m.startswith('__')] #obtain only public methods"
   ]
  },
  {
   "cell_type": "code",
   "execution_count": 35,
   "id": "78a3283e",
   "metadata": {},
   "outputs": [
    {
     "name": "stdout",
     "output_type": "stream",
     "text": [
      "47\n"
     ]
    }
   ],
   "source": [
    "string_methods = [method for method in dir(str) if not method.startswith('_')]\n",
    "print(len(string_methods))"
   ]
  },
  {
   "cell_type": "code",
   "execution_count": 37,
   "id": "77122d92",
   "metadata": {},
   "outputs": [
    {
     "name": "stdout",
     "output_type": "stream",
     "text": [
      "range(499, 1000)\n"
     ]
    }
   ],
   "source": [
    "r = range(499, 1000)\n",
    "print (r)\n"
   ]
  },
  {
   "cell_type": "code",
   "execution_count": null,
   "id": "ca2600dd",
   "metadata": {},
   "outputs": [],
   "source": []
  }
 ],
 "metadata": {
  "kernelspec": {
   "display_name": "Python 3 (ipykernel)",
   "language": "python",
   "name": "python3"
  },
  "language_info": {
   "codemirror_mode": {
    "name": "ipython",
    "version": 3
   },
   "file_extension": ".py",
   "mimetype": "text/x-python",
   "name": "python",
   "nbconvert_exporter": "python",
   "pygments_lexer": "ipython3",
   "version": "3.11.4"
  }
 },
 "nbformat": 4,
 "nbformat_minor": 5
}
